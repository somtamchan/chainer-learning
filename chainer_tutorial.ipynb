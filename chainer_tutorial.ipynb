{
 "cells": [
  {
   "cell_type": "code",
   "execution_count": null,
   "metadata": {},
   "outputs": [],
   "source": [
    "from chainer.datasets import LabeledImageDataset\n",
    "train = LabeledImageDataset('./small_data/train/label.txt', './small_data/train/image')\n",
    "from chainercv.transforms import resize\n",
    "from chainer.datasets import TransformDataset\n",
    "\n",
    "def transform(in_data):\n",
    "    # データのリサイズ\n",
    "    img, label = in_data\n",
    "    img = resize(img, (224, 224))\n",
    "    return img, label\n",
    "\n",
    "train_val = TransformDataset(train, transform)"
   ]
  },
  {
   "cell_type": "code",
   "execution_count": null,
   "metadata": {},
   "outputs": [],
   "source": [
    "from chainer.datasets import split_dataset_random\n",
    "train, valid = split_dataset_random(train_val, int(len(train_val)*0.8), seed=0)"
   ]
  },
  {
   "cell_type": "code",
   "execution_count": null,
   "metadata": {},
   "outputs": [],
   "source": [
    "from chainer import iterators\n",
    "\n",
    "batchsize = 32 # クラスが多いときは多くする\n",
    "\n",
    "# \n",
    "train_iter = iterators.SerialIterator(train, batchsize)\n",
    "valid_iter = iterators.SerialIterator(\n",
    "    valid, batchsize, repeat=False, shuffle=False)\n",
    "# test_iter = iterators.SerialIterator(\n",
    "#     test, batchsize, repeat=False, shuffle=False)"
   ]
  },
  {
   "cell_type": "code",
   "execution_count": null,
   "metadata": {
    "collapsed": true
   },
   "outputs": [],
   "source": [
    "import chainer.links as L\n",
    "import chainer.functions as F"
   ]
  },
  {
   "cell_type": "code",
   "execution_count": null,
   "metadata": {
    "collapsed": true
   },
   "outputs": [],
   "source": [
    "import random\n",
    "import numpy\n",
    "import chainer\n",
    "\n",
    "def reset_seed(seed=0):\n",
    "    random.seed(seed)\n",
    "    numpy.random.seed(seed)\n",
    "    if chainer.cuda.available:\n",
    "        chainer.cuda.cupy.random.seed(seed)\n",
    "\n",
    "reset_seed(0)"
   ]
  },
  {
   "cell_type": "code",
   "execution_count": 42,
   "metadata": {},
   "outputs": [],
   "source": [
    "class Mynet(chainer.Chain):\n",
    "\n",
    "    def __init__(self, class_labels=2):\n",
    "        super(Mynet, self).__init__()\n",
    "        with self.init_scope():\n",
    "            self.conv1_1 = L.Convolution2D(None, 16, ksize=5, pad=2, nobias=True)\n",
    "            self.conv1_2 = L.Convolution2D(None, 16, ksize=5, pad=2, nobias=True)\n",
    "            self.conv2_1 = L.Convolution2D(None, 32, ksize=3, pad=1, nobias=True)\n",
    "            self.conv2_2 = L.Convolution2D(None, 32, ksize=3, pad=1, nobias=True)\n",
    "            self.fc1 = L.Linear(None, 512, nobias=True)\n",
    "            self.fc2 = L.Linear(None, class_labels, nobias=True)      \n",
    "\n",
    "    def __call__(self, x):\n",
    "        conv1_1 = self.conv1_1(x)\n",
    "        conv1_1 = F.relu(conv1_1)\n",
    "        conv1_2 = self.conv1_2(conv1_1)\n",
    "        conv1_2 = F.relu(conv1_2)\n",
    "        pool1 = F.max_pooling_2d(conv1_2, ksize=2, stride=2)\n",
    "        conv2_1 = self.conv2_1(pool1)\n",
    "        conv2_1 = F.relu(conv2_1)\n",
    "        conv2_2 = self.conv2_2(conv2_1)\n",
    "        conv2_2 = F.relu(conv2_2)\n",
    "        pool2 = F.max_pooling_2d(conv2_2, ksize=2, stride=2)\n",
    "        fc1 = self.fc1(pool2)\n",
    "        fc1 = F.relu(fc1)\n",
    "        fc2 = self.fc2(fc1)\n",
    "        return fc2\n",
    "\n",
    "gpu_id = -1  # CPUを用いる場合は、この値を-1にしてください\n",
    "\n",
    "net = Mynet()\n",
    "\n",
    "if gpu_id >= 0:\n",
    "    net.to_gpu(gpu_id)"
   ]
  },
  {
   "cell_type": "code",
   "execution_count": 43,
   "metadata": {},
   "outputs": [],
   "source": [
    "from chainer import optimizers\n",
    "# オプティマイザ\n",
    "optimizer = optimizers.SGD(lr=0.01).setup(net)"
   ]
  },
  {
   "cell_type": "code",
   "execution_count": null,
   "metadata": {},
   "outputs": [
    {
     "name": "stderr",
     "output_type": "stream",
     "text": [
      "/anaconda/lib/python3.6/site-packages/chainer/functions/activation/log_softmax.py:18: RuntimeWarning: invalid value encountered in subtract\n",
      "  y = x - m\n",
      "/anaconda/lib/python3.6/site-packages/chainer/functions/activation/relu.py:40: RuntimeWarning: invalid value encountered in maximum\n",
      "  return utils.force_array(numpy.maximum(x, 0, dtype=x.dtype)),\n",
      "/anaconda/lib/python3.6/site-packages/numpy/core/_methods.py:28: RuntimeWarning: invalid value encountered in reduce\n",
      "  return umr_maximum(a, axis, None, out, keepdims, initial)\n",
      "/anaconda/lib/python3.6/site-packages/chainer/functions/activation/relu.py:99: RuntimeWarning: invalid value encountered in greater\n",
      "  y = (self.b > 0) * inputs[0]\n"
     ]
    },
    {
     "name": "stdout",
     "output_type": "stream",
     "text": [
      "epoch:01 train_loss:nan val_loss:nan val_accuracy:0.5000\n",
      "epoch:02 train_loss:nan val_loss:nan val_accuracy:0.5000\n",
      "epoch:03 train_loss:nan val_loss:nan val_accuracy:0.5000\n",
      "epoch:04 train_loss:nan val_loss:nan val_accuracy:0.5000\n",
      "epoch:05 train_loss:nan val_loss:nan val_accuracy:0.5000\n",
      "epoch:06 train_loss:nan val_loss:nan val_accuracy:0.5000\n",
      "epoch:07 train_loss:nan val_loss:nan val_accuracy:0.5000\n",
      "epoch:08 train_loss:nan val_loss:nan val_accuracy:0.5000\n"
     ]
    }
   ],
   "source": [
    "import numpy as np\n",
    "from chainer.dataset import concat_examples\n",
    "from chainer.cuda import to_cpu\n",
    "\n",
    "max_epoch = 100\n",
    "\n",
    "while train_iter.epoch < max_epoch:\n",
    "\n",
    "    # ---------- 学習の1イテレーション ----------\n",
    "    train_batch = train_iter.next()\n",
    "    x, t = concat_examples(train_batch, gpu_id)\n",
    "\n",
    "    # 予測値の計算\n",
    "    y = net(x)\n",
    "\n",
    "    # ロスの計算\n",
    "    loss = F.softmax_cross_entropy(y, t)\n",
    "\n",
    "    # 勾配の計算\n",
    "    net.cleargrads()\n",
    "    loss.backward()\n",
    "\n",
    "    # パラメータの更新\n",
    "    optimizer.update()\n",
    "    # --------------- ここまで ----------------\n",
    "\n",
    "    # 1エポック終了ごとにValidationデータに対する予測精度を測って、\n",
    "    # モデルの汎化性能が向上していることをチェックしよう\n",
    "    if train_iter.is_new_epoch:  # 1 epochが終わったら\n",
    "\n",
    "        # ロスの表示\n",
    "        print('epoch:{:02d} train_loss:{:.04f} '.format(\n",
    "            train_iter.epoch, float(to_cpu(loss.data))), end='')\n",
    "\n",
    "        valid_losses = []\n",
    "        valid_accuracies = []\n",
    "        while True:\n",
    "            valid_batch = valid_iter.next()\n",
    "            x_valid, t_valid = concat_examples(valid_batch, gpu_id)\n",
    "\n",
    "            # Validationデータをforward\n",
    "            with chainer.using_config('train', False), \\\n",
    "                    chainer.using_config('enable_backprop', False):\n",
    "                y_valid = net(x_valid)\n",
    "\n",
    "            # ロスを計算\n",
    "            loss_valid = F.softmax_cross_entropy(y_valid, t_valid)\n",
    "            valid_losses.append(to_cpu(loss_valid.array))\n",
    "\n",
    "            # 精度を計算\n",
    "            accuracy = F.accuracy(y_valid, t_valid)\n",
    "            accuracy.to_cpu()\n",
    "            valid_accuracies.append(accuracy.array)\n",
    "\n",
    "            if valid_iter.is_new_epoch:\n",
    "                valid_iter.reset()\n",
    "                break\n",
    "\n",
    "        print('val_loss:{:.04f} val_accuracy:{:.04f}'.format(\n",
    "            np.mean(valid_losses), np.mean(valid_accuracies)))\n",
    "\n"
   ]
  },
  {
   "cell_type": "code",
   "execution_count": null,
   "metadata": {
    "collapsed": true
   },
   "outputs": [],
   "source": [
    "# テストデータでの評価\n",
    "test_accuracies = []\n",
    "while True:\n",
    "    test_batch = test_iter.next()\n",
    "    x_test, t_test = concat_examples(test_batch, gpu_id)\n",
    "\n",
    "    # テストデータをforward\n",
    "    with chainer.using_config('train', False), \\\n",
    "            chainer.using_config('enable_backprop', False):\n",
    "        y_test = net(x_test)\n",
    "\n",
    "    # 精度を計算\n",
    "    accuracy = F.accuracy(y_test, t_test)\n",
    "    accuracy.to_cpu()\n",
    "    test_accuracies.append(accuracy.array)\n",
    "\n",
    "    if test_iter.is_new_epoch:\n",
    "        test_iter.reset()\n",
    "        break\n",
    "\n",
    "print('test_accuracy:{:.04f}'.format(np.mean(test_accuracies)))"
   ]
  },
  {
   "cell_type": "code",
   "execution_count": null,
   "metadata": {
    "collapsed": true
   },
   "outputs": [],
   "source": []
  }
 ],
 "metadata": {
  "kernelspec": {
   "display_name": "Python 3",
   "language": "python",
   "name": "python3"
  },
  "language_info": {
   "codemirror_mode": {
    "name": "ipython",
    "version": 3
   },
   "file_extension": ".py",
   "mimetype": "text/x-python",
   "name": "python",
   "nbconvert_exporter": "python",
   "pygments_lexer": "ipython3",
   "version": "3.6.1"
  }
 },
 "nbformat": 4,
 "nbformat_minor": 2
}
